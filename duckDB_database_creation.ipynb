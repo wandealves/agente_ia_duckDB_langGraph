{
 "cells": [
  {
   "cell_type": "code",
   "execution_count": 1,
   "metadata": {},
   "outputs": [],
   "source": [
    "import os\n",
    "import duckdb"
   ]
  },
  {
   "cell_type": "code",
   "execution_count": 2,
   "metadata": {},
   "outputs": [],
   "source": [
    "# Define the database name\n",
    "db_name = \"clientes_novo.duckdb\""
   ]
  },
  {
   "cell_type": "code",
   "execution_count": 3,
   "metadata": {},
   "outputs": [
    {
     "name": "stdout",
     "output_type": "stream",
     "text": [
      "The database 'clientes_novo.duckdb' already exists.\n"
     ]
    }
   ],
   "source": [
    "# Check if the database already exists\n",
    "if os.path.exists(db_name):\n",
    "    print(f\"The database '{db_name}' already exists.\")\n",
    "else:\n",
    "    # Create a new connection (this will create the database if it doesn't exist)\n",
    "    conn = duckdb.connect(db_name)\n",
    "     # Create the 'clientes' table\n",
    "    conn.execute('''\n",
    "    CREATE TABLE clientes (\n",
    "        cliente_id INTEGER PRIMARY KEY,\n",
    "        nome TEXT NOT NULL,\n",
    "        sobrenome TEXT NOT NULL,\n",
    "        email TEXT NOT NULL,\n",
    "        produto TEXT NOT NULL,\n",
    "        plano TEXT NOT NULL,\n",
    "        valor_pago DECIMAL(10, 2) NOT NULL\n",
    "    )\n",
    "    ''')\n",
    "\n",
    "    # Insert sample data\n",
    "    clientes = [\n",
    "        (1, 'Ana', 'Silva', 'ana.silva@email.com', 'Produto A', 'Anual', 10000.00),\n",
    "        (2, 'Bruno', 'Oliveira', 'bruno.oliveira@email.com', 'Produto B', 'Mensal', 900.00),\n",
    "        (3, 'Carlos', 'Pereira', 'carlos.pereira@email.com', 'Produto C', 'Mensal', 900.00),\n",
    "        (4, 'Daniela', 'Costa', 'daniela.costa@email.com', 'Produto D', 'Anual', 10000.00),\n",
    "        (5, 'Eduardo', 'Lima', 'eduardo.lima@email.com', 'Produto E', 'Mensal', 900.00),\n",
    "        (6, 'Paulo', 'Andrade', 'paulo.andrade@email.com', 'Produto D', 'Mensal', 900.00),\n",
    "        (7, 'Fernanda', 'Costa', 'fernanda.costa@email.com', 'Produto E', 'Anual', 10000.00),\n",
    "        (8, 'Lucas', 'Alves', 'lucas.alves@email.com', 'Produto F', 'Mensal', 900.00)\n",
    "    ]\n",
    "\n",
    "    # Insert the data into the table\n",
    "    conn.executemany('''\n",
    "    INSERT INTO clientes (cliente_id, nome, sobrenome, email, produto, plano, valor_pago)\n",
    "    VALUES (?, ?, ?, ?, ?, ?, ?)\n",
    "    ''', clientes)\n",
    "\n",
    "    # Commit the changes and close the connection\n",
    "    conn.commit()\n",
    "    conn.close()\n",
    "\n",
    "    print(f\"Database '{db_name}' created successfully with sample data.\")"
   ]
  },
  {
   "cell_type": "code",
   "execution_count": null,
   "metadata": {},
   "outputs": [
    {
     "ename": "BinderException",
     "evalue": "Binder Error: column \"produto\" must appear in the GROUP BY clause or must be part of an aggregate function.\nEither add it to the GROUP BY list, or use \"ANY_VALUE(produto)\" if the exact value of \"produto\" is not important.\nLINE 1: SELECT produto, COUNT(*) as quantidade FROM cl...\n               ^",
     "output_type": "error",
     "traceback": [
      "\u001b[0;31m---------------------------------------------------------------------------\u001b[0m",
      "\u001b[0;31mBinderException\u001b[0m                           Traceback (most recent call last)",
      "Cell \u001b[0;32mIn[4], line 3\u001b[0m\n\u001b[1;32m      1\u001b[0m \u001b[38;5;66;03m# Verify the contents of the database\u001b[39;00m\n\u001b[1;32m      2\u001b[0m conn \u001b[38;5;241m=\u001b[39m duckdb\u001b[38;5;241m.\u001b[39mconnect(db_name)\n\u001b[0;32m----> 3\u001b[0m result \u001b[38;5;241m=\u001b[39m \u001b[43mconn\u001b[49m\u001b[38;5;241;43m.\u001b[39;49m\u001b[43mexecute\u001b[49m\u001b[43m(\u001b[49m\u001b[38;5;124;43m\"\u001b[39;49m\u001b[38;5;124;43mSELECT produto, COUNT(*) as quantidade FROM clientes WHERE valor_pago > (SELECT AVG(valor_pago) FROM clientes)\u001b[39;49m\u001b[38;5;124;43m\"\u001b[39;49m\u001b[43m)\u001b[49m\u001b[38;5;241m.\u001b[39mfetchall()\n\u001b[1;32m      4\u001b[0m \u001b[38;5;66;03m# SELECT produto, COUNT(*) as quantidade FROM clientes WHERE valor_pago > (SELECT AVG(valor_pago) FROM clientes)\u001b[39;00m\n\u001b[1;32m      5\u001b[0m \u001b[38;5;28mprint\u001b[39m(\u001b[38;5;124m\"\u001b[39m\u001b[38;5;130;01m\\n\u001b[39;00m\u001b[38;5;124mContents of the \u001b[39m\u001b[38;5;124m'\u001b[39m\u001b[38;5;124mclientes\u001b[39m\u001b[38;5;124m'\u001b[39m\u001b[38;5;124m table:\u001b[39m\u001b[38;5;124m\"\u001b[39m)\n",
      "\u001b[0;31mBinderException\u001b[0m: Binder Error: column \"produto\" must appear in the GROUP BY clause or must be part of an aggregate function.\nEither add it to the GROUP BY list, or use \"ANY_VALUE(produto)\" if the exact value of \"produto\" is not important.\nLINE 1: SELECT produto, COUNT(*) as quantidade FROM cl...\n               ^"
     ]
    }
   ],
   "source": [
    "# Verify the contents of the database\n",
    "conn = duckdb.connect(db_name)\n",
    "result = conn.execute(\"SELECT * FROM clientes;\").fetchall()\n",
    "# SELECT produto, COUNT(*) as quantidade FROM clientes WHERE valor_pago > (SELECT AVG(valor_pago) FROM clientes)\n",
    "print(\"\\nContents of the 'clientes' table:\")\n",
    "for row in result:\n",
    "    print(row)\n",
    "conn.close()"
   ]
  },
  {
   "cell_type": "code",
   "execution_count": null,
   "metadata": {},
   "outputs": [],
   "source": [
    "  "
   ]
  }
 ],
 "metadata": {
  "kernelspec": {
   "display_name": ".venv",
   "language": "python",
   "name": "python3"
  },
  "language_info": {
   "codemirror_mode": {
    "name": "ipython",
    "version": 3
   },
   "file_extension": ".py",
   "mimetype": "text/x-python",
   "name": "python",
   "nbconvert_exporter": "python",
   "pygments_lexer": "ipython3",
   "version": "3.12.8"
  }
 },
 "nbformat": 4,
 "nbformat_minor": 2
}
